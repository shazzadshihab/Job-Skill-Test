{
  "nbformat": 4,
  "nbformat_minor": 0,
  "metadata": {
    "colab": {
      "provenance": []
    },
    "kernelspec": {
      "name": "python3",
      "display_name": "Python 3"
    },
    "language_info": {
      "name": "python"
    }
  },
  "cells": [
    {
      "cell_type": "code",
      "source": [
        "from sklearn.ensemble import RandomForestClassifier, VotingClassifier\n",
        "from sklearn.linear_model import LogisticRegression\n",
        "from sklearn.naive_bayes import GaussianNB\n",
        "from sklearn.metrics import classification_report, confusion_matrix, roc_curve, auc\n",
        "from sklearn.model_selection import cross_val_score, train_test_split\n",
        "from sklearn.svm import SVC\n",
        "import matplotlib.pyplot as plt\n",
        "import numpy as np\n",
        "import pandas as pd\n",
        "\n",
        "# Load the iris dataset\n",
        "iris_df = pd.read_csv('https://archive.ics.uci.edu/ml/machine-learning-databases/iris/iris.data', header=None)\n",
        "iris_df.columns = ['sepal_length', 'sepal_width', 'petal_length', 'petal_width', 'class']\n",
        "\n",
        "# Convert class labels to numerical values\n",
        "iris_df['class'] = pd.factorize(iris_df['class'])[0]\n",
        "\n",
        "# Split the data into features (X) and labels (y)\n",
        "X = iris_df.drop('class', axis=1)\n",
        "y = iris_df['class']\n",
        "\n",
        "# Split the data into training and test sets\n",
        "X_train, X_test, y_train, y_test = train_test_split(X, y, test_size=0.3, random_state=1)\n",
        "\n",
        "# Create a random forest classifier and fit it to the training data\n",
        "rf_clf = RandomForestClassifier(n_estimators=100, random_state=1)\n",
        "rf_clf.fit(X_train, y_train)\n",
        "\n",
        "# Make predictions for the test set using random forest\n",
        "y_pred_rf = rf_clf.predict(X_test)\n",
        "\n",
        "# Compute and plot classification report and confusion matrix for random forest\n",
        "print(\"Random Forest Results\")\n",
        "print(classification_report(y_test, y_pred_rf))\n",
        "conf_matrix_rf = confusion_matrix(y_test, y_pred_rf)\n",
        "plt.matshow(conf_matrix_rf, cmap=plt.cm.Blues)\n",
        "plt.colorbar()\n",
        "for i in range(conf_matrix_rf.shape[0]):\n",
        "    for j in range(conf_matrix_rf.shape[1]):\n",
        "        plt.text(j, i, conf_matrix_rf[i,j], va='center', ha='center')\n",
        "plt.xlabel('Predicted class')\n",
        "plt.ylabel('True class')\n",
        "plt.show()\n",
        "\n",
        "# Compute and plot cross-validation scores for random forest\n",
        "rf_cv_scores = cross_val_score(rf_clf, X, y, cv=5)\n",
        "print(f\"Random Forest cross-validation scores: {rf_cv_scores}\")\n",
        "print(f\"Random Forest mean cross-validation score: {np.mean(rf_cv_scores)}\")\n",
        "print(\"\")\n",
        "\n",
        "\n",
        "\n",
        "\n",
        "# Create a Naive Bayes classifier and fit it to the training data\n",
        "nb_clf = GaussianNB()\n",
        "nb_clf.fit(X_train, y_train)\n",
        "\n",
        "# Make predictions for the test set using Naive Bayes\n",
        "y_pred_nb = nb_clf.predict(X_test)\n",
        "\n",
        "# Compute and plot classification report and confusion matrix for Naive Bayes\n",
        "print(\"Naive Bayes Results\")\n",
        "print(classification_report(y_test, y_pred_nb))\n",
        "conf_matrix_nb = confusion_matrix(y_test, y_pred_nb)\n",
        "plt.matshow(conf_matrix_nb, cmap=plt.cm.Blues)\n",
        "plt.colorbar()\n",
        "for i in range(conf_matrix_nb.shape[0]):\n",
        "    for j in range(conf_matrix_nb.shape[1]):\n",
        "        plt.text(j, i, conf_matrix_nb[i,j], va='center', ha='center')\n",
        "plt.xlabel('Predicted class')\n",
        "plt.ylabel('True class')\n",
        "plt.show()\n",
        "\n",
        "# Compute and plot cross-validation scores for Naive Bayes\n",
        "nb_cv_scores = cross_val_score(nb_clf, X, y, cv=5)\n",
        "print(f\"Naive Bayes cross-validation scores: {nb_cv_scores}\")\n",
        "print(f\"RNaive Bayes cross-validation score: {np.mean(nb_cv_scores)}\")\n",
        "print(\"\")\n",
        "\n",
        "\n",
        "# Create an SVM classifier and fit it to the training data\n",
        "svm_clf = SVC(kernel='linear', C=1, random_state=1)\n",
        "svm_clf.fit(X_train, y_train)\n",
        "\n",
        "# Make predictions for the test set using SVM\n",
        "y_pred_svm = svm_clf.predict(X_test)\n",
        "\n",
        "# Compute and plot classification report and confusion matrix for SVM\n",
        "print(\"SVM Results\")\n",
        "print(classification_report(y_test, y_pred_svm))\n",
        "conf_matrix_svm = confusion_matrix(y_test, y_pred_svm)\n",
        "plt.matshow(conf_matrix_svm, cmap=plt.cm.Blues)\n",
        "plt.colorbar()\n",
        "for i in range(conf_matrix_svm.shape[0]):\n",
        "    for j in range(conf_matrix_svm.shape[1]):\n",
        "        plt.text(j, i, conf_matrix_svm[i,j], va='center', ha='center')\n",
        "plt.xlabel('Predicted class')\n",
        "plt.ylabel('True class')\n",
        "plt.show()\n",
        "\n",
        "# Compute and plot cross-validation scores for SVM\n",
        "svm_cv_scores = cross_val_score(svm_clf, X, y, cv=5)\n",
        "print(f\"SVM cross-validation scores: {svm_cv_scores}\")\n",
        "print(f\"SVM mean cross-validation score: {np.mean(svm_cv_scores)}\")\n",
        "print(\"\")\n",
        "\n",
        "\n",
        "# Create a logistic regression classifier and fit it to the training data\n",
        "lr_clf = LogisticRegression(random_state=1)\n",
        "lr_clf.fit(X_train, y_train)\n",
        "\n",
        "# Make predictions for the test set using logistic regression\n",
        "y_pred_lr = lr_clf.predict(X_test)\n",
        "\n",
        "# Compute and plot classification report and confusion matrix for logistic regression\n",
        "print(\"Logistic Regression Results\")\n",
        "print(classification_report(y_test, y_pred_lr))\n",
        "conf_matrix_lr = confusion_matrix(y_test, y_pred_lr)\n",
        "plt.matshow(conf_matrix_lr, cmap=plt.cm.Blues)\n",
        "plt.colorbar()\n",
        "for i in range(conf_matrix_lr.shape[0]):\n",
        "    for j in range(conf_matrix_lr.shape[1]):\n",
        "        plt.text(j, i, conf_matrix_lr[i,j], va='center', ha='center')\n",
        "plt.xlabel('Predicted class')\n",
        "plt.ylabel('True class')\n",
        "plt.show()\n",
        "\n",
        "# Compute and plot cross-validation scores for logistic regression\n",
        "lr_cv_scores = cross_val_score(lr_clf, X, y, cv=5)\n",
        "print(f\"Logistic Regression cross-validation scores: {lr_cv_scores}\")\n",
        "print(f\"Logistic Regression mean cross-validation score: {np.mean(lr_cv_scores)}\")\n",
        "print(\"\")"
      ],
      "metadata": {
        "colab": {
          "base_uri": "https://localhost:8080/",
          "height": 1000
        },
        "id": "Fzs6sf4BM9DW",
        "outputId": "fa410938-5af9-4591-af27-0481ef7dc552"
      },
      "execution_count": null,
      "outputs": [
        {
          "output_type": "stream",
          "name": "stdout",
          "text": [
            "Random Forest Results\n",
            "              precision    recall  f1-score   support\n",
            "\n",
            "           0       1.00      1.00      1.00        14\n",
            "           1       0.94      0.94      0.94        18\n",
            "           2       0.92      0.92      0.92        13\n",
            "\n",
            "    accuracy                           0.96        45\n",
            "   macro avg       0.96      0.96      0.96        45\n",
            "weighted avg       0.96      0.96      0.96        45\n",
            "\n"
          ]
        },
        {
          "output_type": "display_data",
          "data": {
            "text/plain": [
              "<Figure size 288x288 with 2 Axes>"
            ],
            "image/png": "[encoded data removed]"
          },
          "metadata": {
            "needs_background": "light"
          }
        },
        {
          "output_type": "stream",
          "name": "stdout",
          "text": [
            "Random Forest cross-validation scores: [0.96666667 0.96666667 0.93333333 0.96666667 1.        ]\n",
            "Random Forest mean cross-validation score: 0.9666666666666668\n",
            "\n",
            "Naive Bayes Results\n",
            "              precision    recall  f1-score   support\n",
            "\n",
            "           0       1.00      1.00      1.00        14\n",
            "           1       0.94      0.89      0.91        18\n",
            "           2       0.86      0.92      0.89        13\n",
            "\n",
            "    accuracy                           0.93        45\n",
            "   macro avg       0.93      0.94      0.93        45\n",
            "weighted avg       0.94      0.93      0.93        45\n",
            "\n"
          ]
        },
        {
          "output_type": "display_data",
          "data": {
            "text/plain": [
              "<Figure size 288x288 with 2 Axes>"
            ],
            "image/png": "[encoded data removed]"
          },
          "metadata": {
            "needs_background": "light"
          }
        },
        {
          "output_type": "stream",
          "name": "stdout",
          "text": [
            "Naive Bayes cross-validation scores: [0.93333333 0.96666667 0.93333333 0.93333333 1.        ]\n",
            "RNaive Bayes cross-validation score: 0.9533333333333334\n",
            "\n",
            "SVM Results\n",
            "              precision    recall  f1-score   support\n",
            "\n",
            "           0       1.00      1.00      1.00        14\n",
            "           1       1.00      1.00      1.00        18\n",
            "           2       1.00      1.00      1.00        13\n",
            "\n",
            "    accuracy                           1.00        45\n",
            "   macro avg       1.00      1.00      1.00        45\n",
            "weighted avg       1.00      1.00      1.00        45\n",
            "\n"
          ]
        },
        {
          "output_type": "display_data",
          "data": {
            "text/plain": [
              "<Figure size 288x288 with 2 Axes>"
            ],
            "image/png": "[encoded data removed]"
          },
          "metadata": {
            "needs_background": "light"
          }
        },
        {
          "output_type": "stream",
          "name": "stdout",
          "text": [
            "SVM cross-validation scores: [0.96666667 1.         0.96666667 0.96666667 1.        ]\n",
            "SVM mean cross-validation score: 0.9800000000000001\n",
            "\n",
            "Logistic Regression Results\n",
            "              precision    recall  f1-score   support\n",
            "\n",
            "           0       1.00      1.00      1.00        14\n",
            "           1       1.00      0.94      0.97        18\n",
            "           2       0.93      1.00      0.96        13\n",
            "\n",
            "    accuracy                           0.98        45\n",
            "   macro avg       0.98      0.98      0.98        45\n",
            "weighted avg       0.98      0.98      0.98        45\n",
            "\n"
          ]
        },
        {
          "output_type": "display_data",
          "data": {
            "text/plain": [
              "<Figure size 288x288 with 2 Axes>"
            ],
            "image/png": "[encoded data removed]"
          },
          "metadata": {
            "needs_background": "light"
          }
        },
        {
          "output_type": "stream",
          "name": "stdout",
          "text": [
            "Logistic Regression cross-validation scores: [0.96666667 1.         0.93333333 0.96666667 1.        ]\n",
            "Logistic Regression mean cross-validation score: 0.9733333333333334\n",
            "\n"
          ]
        }
      ]
    },
    {
      "cell_type": "code",
      "source": [
        "from sklearn.ensemble import StackingClassifier\n",
        "from sklearn.tree import DecisionTreeClassifier\n",
        "\n",
        "# Define the base models\n",
        "rf_clf = RandomForestClassifier(n_estimators=100)\n",
        "nb_clf = GaussianNB()\n",
        "svm_clf = SVC(kernel='linear')\n",
        "logreg_clf = LogisticRegression(max_iter=10000)\n",
        "\n",
        "# Define the meta-classifier\n",
        "dt_clf = DecisionTreeClassifier()\n",
        "\n",
        "# Define the stacking classifier\n",
        "estimators = [('rf', rf_clf), ('nb', nb_clf), ('svm', svm_clf), ('logreg', logreg_clf)]\n",
        "stacking_clf = StackingClassifier(estimators=estimators, final_estimator=dt_clf)\n",
        "\n",
        "# Fit the stacking classifier\n",
        "stacking_clf.fit(X_train, y_train)\n",
        "\n",
        "# Predict the labels of the test\n",
        "y_pred_stacking = stacking_clf.predict(X_test)\n",
        "\n",
        "# Compute and plot classification report and confusion matrix for stacking classifier\n",
        "print(\"Stacking Classifier Results\")\n",
        "print(classification_report(y_test, y_pred_stacking))\n",
        "conf_matrix_stacking = confusion_matrix(y_test, y_pred_stacking)\n",
        "plt.matshow(conf_matrix_stacking, cmap=plt.cm.Blues)\n",
        "plt.colorbar()\n",
        "for i in range(conf_matrix_stacking.shape[0]):\n",
        "    for j in range(conf_matrix_stacking.shape[1]):\n",
        "        plt.text(j, i, conf_matrix_stacking[i,j], va='center', ha='center')\n",
        "plt.xlabel('Predicted class')\n",
        "plt.ylabel('True class')\n",
        "plt.show()"
      ],
      "metadata": {
        "colab": {
          "base_uri": "https://localhost:8080/",
          "height": 467
        },
        "id": "QmV6pl-vQsih",
        "outputId": "43b8eaaa-6302-4498-9a1a-b08a92c3d6f7"
      },
      "execution_count": null,
      "outputs": [
        {
          "output_type": "stream",
          "name": "stdout",
          "text": [
            "Stacking Classifier Results\n",
            "              precision    recall  f1-score   support\n",
            "\n",
            "           0       1.00      1.00      1.00        14\n",
            "           1       1.00      1.00      1.00        18\n",
            "           2       1.00      1.00      1.00        13\n",
            "\n",
            "    accuracy                           1.00        45\n",
            "   macro avg       1.00      1.00      1.00        45\n",
            "weighted avg       1.00      1.00      1.00        45\n",
            "\n"
          ]
        },
        {
          "output_type": "display_data",
          "data": {
            "text/plain": [
              "<Figure size 288x288 with 2 Axes>"
            ],
            "image/png": "[encoded data removed]"
          },
          "metadata": {
            "needs_background": "light"
          }
        }
      ]
    }
  ]
}